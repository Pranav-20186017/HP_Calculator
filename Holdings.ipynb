{
 "cells": [
  {
   "cell_type": "code",
   "execution_count": 62,
   "id": "a8b4c5cc",
   "metadata": {},
   "outputs": [],
   "source": [
    "import pandas as pd\n",
    "import numpy as np"
   ]
  },
  {
   "cell_type": "code",
   "execution_count": 63,
   "id": "980bb3d2",
   "metadata": {},
   "outputs": [],
   "source": [
    "data = pd.read_csv('holdings.csv')"
   ]
  },
  {
   "cell_type": "code",
   "execution_count": 66,
   "id": "bd90b8b0",
   "metadata": {},
   "outputs": [],
   "source": [
    "invested_amount_total = round(sum(data['Qty.'] * data['Avg. cost']),3)"
   ]
  },
  {
   "cell_type": "code",
   "execution_count": 68,
   "id": "23eadd90",
   "metadata": {},
   "outputs": [],
   "source": [
    "pct_list = []\n",
    "interim = data['Qty.'] * data['Avg. cost']\n",
    "for i in interim:\n",
    "    pct_list.append(round(((i / invested_amount_total) * 100),3))\n",
    "data['Invested Amount Percentage'] = pct_list"
   ]
  },
  {
   "cell_type": "code",
   "execution_count": 70,
   "id": "7edcf4cf",
   "metadata": {},
   "outputs": [],
   "source": [
    "data.to_csv('holdings.csv')"
   ]
  }
 ],
 "metadata": {
  "kernelspec": {
   "display_name": "Python 3",
   "language": "python",
   "name": "python3"
  },
  "language_info": {
   "codemirror_mode": {
    "name": "ipython",
    "version": 3
   },
   "file_extension": ".py",
   "mimetype": "text/x-python",
   "name": "python",
   "nbconvert_exporter": "python",
   "pygments_lexer": "ipython3",
   "version": "3.6.7"
  }
 },
 "nbformat": 4,
 "nbformat_minor": 5
}
